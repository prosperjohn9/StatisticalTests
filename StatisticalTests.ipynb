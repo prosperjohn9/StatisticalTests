{
  "nbformat": 4,
  "nbformat_minor": 0,
  "metadata": {
    "colab": {
      "provenance": [],
      "authorship_tag": "ABX9TyNbK8gPTJLOQxIaUnVYFxOI",
      "include_colab_link": true
    },
    "kernelspec": {
      "name": "python3",
      "display_name": "Python 3"
    },
    "language_info": {
      "name": "python"
    }
  },
  "cells": [
    {
      "cell_type": "markdown",
      "metadata": {
        "id": "view-in-github",
        "colab_type": "text"
      },
      "source": [
        "<a href=\"https://colab.research.google.com/github/prosperjohn9/StatisticalTests/blob/main/StatisticalTests.ipynb\" target=\"_parent\"><img src=\"https://colab.research.google.com/assets/colab-badge.svg\" alt=\"Open In Colab\"/></a>"
      ]
    },
    {
      "cell_type": "code",
      "execution_count": null,
      "metadata": {
        "colab": {
          "base_uri": "https://localhost:8080/"
        },
        "id": "xSlCKiIcRevJ",
        "outputId": "f37bbb67-f438-478a-efb1-a92b6fe695f9"
      },
      "outputs": [
        {
          "output_type": "stream",
          "name": "stdout",
          "text": [
            "T-statistic: -1.9\n",
            "P-value: 0.09\n",
            "Chi-square statistic: 0.27\n",
            "P-value: 0.87\n",
            "Degrees of freedom: 2\n",
            "Expected frequencies: [[10.43 18.91 30.65]\n",
            " [ 5.57 10.09 16.35]]\n",
            "F-statistic: 3.86\n",
            "P-value: 0.05\n"
          ]
        }
      ],
      "source": [
        "# Import statistical model library\n",
        "import scipy.stats as stats\n",
        "\n",
        "# t-test(Used to compare the means of two groups)\n",
        "sample1 = [1, 2, 3, 4, 5]\n",
        "sample2 = [2, 4, 6, 8, 10]\n",
        "t_statistic, p_value = stats.ttest_ind(sample1, sample2)\n",
        "print(\"T-statistic:\", t_statistic.round(2))\n",
        "print(\"P-value:\", p_value.round(2))\n",
        "\n",
        "'''\n",
        "chi-square test(Used to determine if there is significant\n",
        "association between two categorical variables)\n",
        "\n",
        "'''\n",
        "observed = [[10, 20, 30],\n",
        "            [6, 9, 17]]\n",
        "chi2_statistic, p_value, dof, expected = stats.chi2_contingency(observed)\n",
        "print(\"Chi-square statistic:\", chi2_statistic.round(2))\n",
        "print(\"P-value:\", p_value.round(2))\n",
        "print(\"Degrees of freedom:\", dof)\n",
        "print(\"Expected frequencies:\", expected.round(2))\n",
        "\n",
        "#ANOVA(Analysis of Variance is used to compare all the means of multiple groups)\n",
        "group1 = [1, 2, 3, 4, 5]\n",
        "group2 = [2, 4, 6, 8, 10]\n",
        "group3 = [3, 6, 9, 12, 15]\n",
        "f_statistic, p_value = stats.f_oneway(group1, group2, group3)\n",
        "print(\"F-statistic:\", f_statistic.round(2))\n",
        "print(\"P-value:\", p_value.round(2))"
      ]
    }
  ]
}